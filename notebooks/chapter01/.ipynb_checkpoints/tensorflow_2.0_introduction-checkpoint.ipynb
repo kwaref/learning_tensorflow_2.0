{
 "cells": [
  {
   "cell_type": "markdown",
   "metadata": {},
   "source": [
    "# Basic Tensorflow usage"
   ]
  },
  {
   "cell_type": "markdown",
   "metadata": {},
   "source": [
    "To use it, just import it as usual!\n",
    "Here we decided also to print installed version"
   ]
  },
  {
   "cell_type": "code",
   "execution_count": 1,
   "metadata": {},
   "outputs": [
    {
     "name": "stdout",
     "output_type": "stream",
     "text": [
      "2.0.0\n"
     ]
    }
   ],
   "source": [
    "import tensorflow as tf\n",
    "print(tf.__version__)"
   ]
  },
  {
   "cell_type": "markdown",
   "metadata": {},
   "source": [
    "Just to see how Tensorflow 2.0 makes our life easier let's compare such a simple operation as declaring two constants and printing its sum, both in Tensorflow 1.xx way and in the new Tensorflow fashion. Assuming you've installed and imported as tf both version (each at a time)"
   ]
  },
  {
   "cell_type": "markdown",
   "metadata": {},
   "source": [
    "### Tensorflow 1.xx way"
   ]
  },
  {
   "cell_type": "code",
   "execution_count": null,
   "metadata": {},
   "outputs": [],
   "source": [
    "tfs = tf.InteractiveSession()\n",
    "c1 = tf.constant(10, name='x')\n",
    "c2 = tf.constant(2, name='y')\n",
    "op = tf.add(c1, c2)\n",
    "tfs.run(op)"
   ]
  },
  {
   "cell_type": "markdown",
   "metadata": {},
   "source": [
    "### Tensorflow 2.0 way"
   ]
  },
  {
   "cell_type": "code",
   "execution_count": 28,
   "metadata": {},
   "outputs": [
    {
     "name": "stdout",
     "output_type": "stream",
     "text": [
      "tf.Tensor(12, shape=(), dtype=int32)\n"
     ]
    }
   ],
   "source": [
    "c1 = tf.constant(10)\n",
    "c2 = tf.constant(2)\n",
    "print(tf.add(c1, c2))"
   ]
  },
  {
   "cell_type": "markdown",
   "metadata": {},
   "source": [
    "As you can see, in contrast with Tensorflow 1.xx, in Tensorflow 2.0 we don need an <code>InteractiveSession</code> to run a simple piece of code, or anything!."
   ]
  },
  {
   "cell_type": "markdown",
   "metadata": {},
   "source": [
    "Let's see a more elaborated example."
   ]
  },
  {
   "cell_type": "markdown",
   "metadata": {},
   "source": [
    "### Operations with Tensorflow 1.xx"
   ]
  },
  {
   "cell_type": "code",
   "execution_count": null,
   "metadata": {},
   "outputs": [],
   "source": [
    "g = tf.Graph()\n",
    "with g.as_default():\n",
    "    a = tf.constant([[10, 10], [11.,1.]])\n",
    "    x = tf.constant([[1., 0.], [0.,1.]])\n",
    "    b = tf.Variable(12.)\n",
    "    y = tf.matmul(a, x) + b\n",
    "    init_op = tf.global_variables_initializer()\n",
    "    \n",
    "with tf.Session() as sess:\n",
    "    sess.run(init_op)\n",
    "    print(sess.run(y))"
   ]
  },
  {
   "cell_type": "markdown",
   "metadata": {},
   "source": [
    "### Operations with Tensorflow 2.0"
   ]
  },
  {
   "cell_type": "code",
   "execution_count": 14,
   "metadata": {},
   "outputs": [
    {
     "name": "stdout",
     "output_type": "stream",
     "text": [
      "[[22. 22.]\n",
      " [23. 13.]]\n"
     ]
    }
   ],
   "source": [
    "a = tf.constant([[10, 10], [11.,1.]])\n",
    "x = tf.constant([[1., 0.], [0.,1.]])\n",
    "b = tf.Variable(12.)\n",
    "y = tf.matmul(a, x) + b\n",
    "print(y.numpy())"
   ]
  },
  {
   "cell_type": "markdown",
   "metadata": {},
   "source": [
    "As a summary, with its **eager execution**:\n",
    "1. __Tensorflow 2.0__ doesn't require the graph definition,\n",
    "2. neither the session execution,\n",
    "3. or variable sharing via scopes and\n",
    "4. it doesn't make mandatory to initialize variables.\n",
    "\n",
    "Nice! isn't it?"
   ]
  },
  {
   "cell_type": "code",
   "execution_count": 27,
   "metadata": {},
   "outputs": [
    {
     "name": "stdout",
     "output_type": "stream",
     "text": [
      "[[22. 22.]\n",
      " [23. 13.]]\n"
     ]
    }
   ],
   "source": [
    "@tf.function\n",
    "def mat_mul_plus_esc(m1, m2, e1):\n",
    "    b = tf.constant(e1)\n",
    "    m = tf.matmul(tf.constant(m1), tf.constant(m2))\n",
    "    return m + b\n",
    "\n",
    "a1 = [[10, 10], [11.,1.]]\n",
    "x1 = [[1., 0.], [0.,1.]]\n",
    "e1 = 12.\n",
    "print(mat_mul_plus_esc(a1, x1, e1).numpy())"
   ]
  }
 ],
 "metadata": {
  "kernelspec": {
   "display_name": "Python 3",
   "language": "python",
   "name": "python3"
  },
  "language_info": {
   "codemirror_mode": {
    "name": "ipython",
    "version": 3
   },
   "file_extension": ".py",
   "mimetype": "text/x-python",
   "name": "python",
   "nbconvert_exporter": "python",
   "pygments_lexer": "ipython3",
   "version": "3.6.9"
  }
 },
 "nbformat": 4,
 "nbformat_minor": 2
}
